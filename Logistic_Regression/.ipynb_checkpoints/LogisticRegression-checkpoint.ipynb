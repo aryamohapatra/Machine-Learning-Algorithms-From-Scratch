{
 "cells": [
  {
   "cell_type": "markdown",
   "metadata": {},
   "source": [
    "## Logistic Regression Classifier from scratch\n"
   ]
  },
  {
   "cell_type": "code",
   "execution_count": 56,
   "metadata": {},
   "outputs": [],
   "source": [
    "#We are importing all necessary libraries to implement our model\n",
    "import matplotlib.pyplot as plt\n",
    "import numpy as np\n",
    "import pandas as pd\n",
    "from sklearn import preprocessing\n",
    "from sklearn.model_selection import StratifiedKFold\n",
    "from sklearn.preprocessing import StandardScaler"
   ]
  },
  {
   "cell_type": "code",
   "execution_count": 57,
   "metadata": {},
   "outputs": [],
   "source": [
    "class LogisticRegression(object):\n",
    "    \n",
    "    def __init__(Logreg, alpha=0.01, n_iteration=100):  #This function intializes the alpha value and iteration \n",
    "        Logreg.alpha = alpha                            #value in the object\n",
    "        Logreg.n_iter = n_iteration\n",
    "        \n",
    "    def _sigmoid_function(Logreg, x): #This function is resonsible for calculating the sigmoid value with given parameter\n",
    "        value = 1 / (1 + np.exp(-x))\n",
    "        return value\n",
    "    \n",
    "    def _cost_function(Logreg,h,theta, y): # The fuctions calculates the cost value\n",
    "        m = len(y)\n",
    "        cost = (1 / m) * (np.sum(-y.T.dot(np.log(h)) - (1 - y).T.dot(np.log(1 - h))))\n",
    "        return cost\n",
    "    \n",
    "    def _gradient_descend(Logreg,X,h,theta,y,m): # This function calculates the theta value by gradient descend\n",
    "        gradient_value = np.dot(X.T, (h - y)) / m\n",
    "        theta -= Logreg.alpha * gradient_value\n",
    "        return theta\n",
    "    \n",
    "    def fit(Logreg, X, y): #This function primarily calculates the optimal theta value using which we predict the future data\n",
    "        print(\"Fitting the given dataset..\")\n",
    "\n",
    "        Logreg.theta = []\n",
    "        Logreg.cost = []\n",
    "        X = np.insert(X, 0, 1, axis=1)\n",
    "        m = len(y)\n",
    "\n",
    "        for i in np.unique(y): \n",
    "            #print('Descending the gradient for label type ' + str(i) + 'vs Rest')\n",
    "            y_onevsall = np.where(y == i, 1, 0)\n",
    "            theta = np.zeros(X.shape[1])\n",
    "            cost = []\n",
    "            for _ in range(Logreg.n_iter):\n",
    "                z = X.dot(theta)\n",
    "                h = Logreg._sigmoid_function(z)\n",
    "                theta = Logreg._gradient_descend(X,h,theta,y_onevsall,m)\n",
    "                cost.append(Logreg._cost_function(h,theta,y_onevsall)) \n",
    "            Logreg.theta.append((theta, i))\n",
    "            Logreg.cost.append((cost,i))\n",
    "        return Logreg\n",
    "\n",
    "    def predict(Logreg, X): # this function calls the max predict function to classify the individul feauter\n",
    "        X = np.insert(X, 0, 1, axis=1)\n",
    "        X_predicted = [max((Logreg._sigmoid_function(i.dot(theta)), c) for theta, c in Logreg.theta)[1] for i in X ]\n",
    "\n",
    "        return X_predicted\n",
    "\n",
    "    def score(Logreg,X, y): #This function compares the predictd label with the actual label to find the model performance\n",
    "        score = sum(Logreg.predict(X) == y) / len(y)\n",
    "        return score\n",
    "    \n",
    "    def _plot_cost(Logreg,costh): # This function plot the Cost function value\n",
    "        for cost,c in costh   :\n",
    "                plt.plot(range(len(cost)),cost,'r')\n",
    "                plt.title(\"Convergence Graph of Cost Function of type-\" + str(c) +\" vs All\")\n",
    "                plt.xlabel(\"Number of Iterations\")\n",
    "                plt.ylabel(\"Cost\")\n",
    "                plt.show()\n"
   ]
  },
  {
   "cell_type": "code",
   "execution_count": 58,
   "metadata": {},
   "outputs": [],
   "source": [
    "# We are reading and processing the data provided\n",
    "filename = 'hazelnuts.txt'\n",
    "data = pd.read_csv(filename,sep='\\t', header=None,dtype=str)\n",
    "#Transposing the data\n",
    "data_T = data.T\n",
    "data_T.dtypes\n",
    "data_T.columns = ['sample_id','length', 'width','thickness','surface_area',\n",
    "                  'mass','compactness','hardness','shell_top_radius','water_content','carbohydrate_content','variety']\n"
   ]
  },
  {
   "cell_type": "code",
   "execution_count": 59,
   "metadata": {},
   "outputs": [],
   "source": [
    "y_data = data_T['variety'].values  #segregating the label vlue from the feature value.\n",
    "X = data_T.drop(['variety','sample_id'],axis=1).values\n",
    "#le = preprocessing.LabelEncoder()\n",
    "#y_data = le.fit_transform(y_data) #Converting the label value from string to numerical\n"
   ]
  },
  {
   "cell_type": "code",
   "execution_count": 60,
   "metadata": {},
   "outputs": [
    {
     "name": "stdout",
     "output_type": "stream",
     "text": [
      "[[-1.05360261 -1.12383747 -0.62010406 ... -0.91319799 -1.68740585\n",
      "   1.48051139]\n",
      " [-0.54765681 -0.94713187 -1.34772443 ... -0.16799927 -1.67691995\n",
      "  -1.29739096]\n",
      " [ 0.99328312  0.53612419  0.93833716 ...  0.99326875 -1.63089729\n",
      "   1.1332736 ]\n",
      " ...\n",
      " [-0.08791611 -0.30724342  0.21150985 ... -0.79727819  1.71880107\n",
      "   0.43879801]\n",
      " [ 1.29361624  1.70612943  1.20958909 ...  1.09055859  1.74819295\n",
      "   1.1332736 ]\n",
      " [ 1.1318984   1.67935585  1.21869345 ...  1.26650828  1.76855679\n",
      "   1.48051139]]\n"
     ]
    }
   ],
   "source": [
    "scaler = StandardScaler()\n",
    "X= scaler.fit_transform(X)\n",
    "print(X)"
   ]
  },
  {
   "cell_type": "code",
   "execution_count": 61,
   "metadata": {},
   "outputs": [],
   "source": [
    "scores = [] #Defining and Array to store the list of scores calculates using diff fold of training data"
   ]
  },
  {
   "cell_type": "markdown",
   "metadata": {},
   "source": [
    "#### Test :1  \n",
    "Testing the model with 1/3 of data being reserved for testing and 2/3 rd being used for training. This is being repeated 10 times"
   ]
  },
  {
   "cell_type": "code",
   "execution_count": 62,
   "metadata": {},
   "outputs": [
    {
     "name": "stdout",
     "output_type": "stream",
     "text": [
      "Fitting the given dataset..\n",
      "the accuracy of the model is  0.9104477611940298\n",
      "Fitting the given dataset..\n",
      "the accuracy of the model is  0.9402985074626866\n",
      "Fitting the given dataset..\n",
      "the accuracy of the model is  0.9253731343283582\n",
      "Fitting the given dataset..\n",
      "the accuracy of the model is  0.9104477611940298\n",
      "Fitting the given dataset..\n",
      "the accuracy of the model is  0.9253731343283582\n",
      "Fitting the given dataset..\n",
      "the accuracy of the model is  0.9104477611940298\n",
      "Fitting the given dataset..\n",
      "the accuracy of the model is  0.9104477611940298\n",
      "Fitting the given dataset..\n",
      "the accuracy of the model is  0.9104477611940298\n",
      "Fitting the given dataset..\n",
      "the accuracy of the model is  0.9402985074626866\n",
      "Fitting the given dataset..\n",
      "the accuracy of the model is  0.8955223880597015\n"
     ]
    }
   ],
   "source": [
    "from sklearn.model_selection import train_test_split\n",
    "for _ in range (10):\n",
    "    X_train,X_test,y_train,y_test = train_test_split(X,y_data,test_size = 0.33)\n",
    "    logi = LogisticRegression(n_iteration=30000).fit(X_train, y_train)\n",
    "    predition1 = logi.predict(X_test)\n",
    "    score1 = logi.score(X_test,y_test)\n",
    "    print(\"the accuracy of the model is \",score1)\n",
    "    scores.append(score1)\n"
   ]
  },
  {
   "cell_type": "code",
   "execution_count": 63,
   "metadata": {},
   "outputs": [
    {
     "name": "stdout",
     "output_type": "stream",
     "text": [
      "0.917910447761194\n"
     ]
    }
   ],
   "source": [
    "print(np.mean(scores))"
   ]
  },
  {
   "cell_type": "code",
   "execution_count": 64,
   "metadata": {},
   "outputs": [],
   "source": [
    "#We are exporting the predicted and ctual value to a csv file.\n",
    "TestvsPred = pd.DataFrame({'Predicted': predition1,\n",
    "                   'Actual': y_test})\n",
    "TestvsPred.to_csv('TestvsPred.csv')"
   ]
  },
  {
   "cell_type": "markdown",
   "metadata": {},
   "source": [
    "#### Test 2:\n",
    "Testing the model by dividing the data into 5 fold. Training the model with 4/5th of the data and testing with the other 1/5 data .Doing Cross validation testing."
   ]
  },
  {
   "cell_type": "code",
   "execution_count": 65,
   "metadata": {},
   "outputs": [],
   "source": [
    "n = 5 #specifing the number of fold we want on the data set to perform the model\n",
    "skf = StratifiedKFold(n_splits=n)\n",
    "score2 = []"
   ]
  },
  {
   "cell_type": "code",
   "execution_count": 66,
   "metadata": {},
   "outputs": [
    {
     "name": "stdout",
     "output_type": "stream",
     "text": [
      "Fitting the given dataset..\n",
      "Accuracy score for the current fold is  0.926829268292683\n",
      "Fitting the given dataset..\n",
      "Accuracy score for the current fold is  0.95\n",
      "Fitting the given dataset..\n",
      "Accuracy score for the current fold is  0.925\n",
      "Fitting the given dataset..\n",
      "Accuracy score for the current fold is  0.95\n",
      "Fitting the given dataset..\n",
      "Accuracy score for the current fold is  0.925\n"
     ]
    }
   ],
   "source": [
    "for train_index, test_index in skf.split(X, y_data):\n",
    "    #---Splitting the Training and Testing values-----#\n",
    "    X_train, X_test = X[train_index], X[test_index] \n",
    "    y_train, y_test = y_data[train_index], y_data[test_index]\n",
    "    \n",
    "    #---Implementing our Logistic regression model---#\n",
    "    #print('Implementing Logistic Rgression for cuurent fold out of ' + str(n) + ' Folds')\n",
    "    logi = LogisticRegression(n_iteration=30000).fit(X_train, y_train)\n",
    "    predition2 = logi.predict(X_test)\n",
    "    curr_score = logi.score(X_test,y_test)\n",
    "    score2.append(curr_score)\n",
    "    print('Accuracy score for the current fold is ',curr_score)"
   ]
  },
  {
   "cell_type": "code",
   "execution_count": 67,
   "metadata": {},
   "outputs": [
    {
     "name": "stdout",
     "output_type": "stream",
     "text": [
      "0.9353658536585365\n"
     ]
    }
   ],
   "source": [
    "print(np.mean(score2))"
   ]
  },
  {
   "cell_type": "code",
   "execution_count": 68,
   "metadata": {},
   "outputs": [
    {
     "data": {
      "image/png": "[encoded data removed]",
      "text/plain": [
       "<Figure size 432x288 with 1 Axes>"
      ]
     },
     "metadata": {
      "needs_background": "light"
     },
     "output_type": "display_data"
    },
    {
     "data": {
      "image/png": "[encoded data removed]",
      "text/plain": [
       "<Figure size 432x288 with 1 Axes>"
      ]
     },
     "metadata": {
      "needs_background": "light"
     },
     "output_type": "display_data"
    },
    {
     "data": {
      "image/png": "[encoded data removed]",
      "text/plain": [
       "<Figure size 432x288 with 1 Axes>"
      ]
     },
     "metadata": {
      "needs_background": "light"
     },
     "output_type": "display_data"
    }
   ],
   "source": [
    "logi._plot_cost(logi.cost) # Here we ae plotting the Cost value and showing how it is depreciating close to 0 with each iteration"
   ]
  },
  {
   "cell_type": "markdown",
   "metadata": {},
   "source": [
    "### Logistic Regression with Scikit-Learn\n",
    "We will be applying the same set of data to the Logisctic regression model of Scikit Learn. We will be comparing how our maodel has perfomed against the Scikit learn Library."
   ]
  },
  {
   "cell_type": "code",
   "execution_count": 69,
   "metadata": {},
   "outputs": [],
   "source": [
    "from sklearn.linear_model import LogisticRegression"
   ]
  },
  {
   "cell_type": "code",
   "execution_count": 70,
   "metadata": {},
   "outputs": [],
   "source": [
    "LogReg = LogisticRegression(solver = 'lbfgs')\n",
    "scikit_score = []"
   ]
  },
  {
   "cell_type": "code",
   "execution_count": 71,
   "metadata": {},
   "outputs": [
    {
     "name": "stderr",
     "output_type": "stream",
     "text": [
      "C:\\Users\\user\\Anaconda3\\lib\\site-packages\\sklearn\\linear_model\\logistic.py:469: FutureWarning: Default multi_class will be changed to 'auto' in 0.22. Specify the multi_class option to silence this warning.\n",
      "  \"this warning.\", FutureWarning)\n",
      "C:\\Users\\user\\Anaconda3\\lib\\site-packages\\sklearn\\linear_model\\logistic.py:469: FutureWarning: Default multi_class will be changed to 'auto' in 0.22. Specify the multi_class option to silence this warning.\n",
      "  \"this warning.\", FutureWarning)\n",
      "C:\\Users\\user\\Anaconda3\\lib\\site-packages\\sklearn\\linear_model\\logistic.py:469: FutureWarning: Default multi_class will be changed to 'auto' in 0.22. Specify the multi_class option to silence this warning.\n",
      "  \"this warning.\", FutureWarning)\n",
      "C:\\Users\\user\\Anaconda3\\lib\\site-packages\\sklearn\\linear_model\\logistic.py:469: FutureWarning: Default multi_class will be changed to 'auto' in 0.22. Specify the multi_class option to silence this warning.\n",
      "  \"this warning.\", FutureWarning)\n",
      "C:\\Users\\user\\Anaconda3\\lib\\site-packages\\sklearn\\linear_model\\logistic.py:469: FutureWarning: Default multi_class will be changed to 'auto' in 0.22. Specify the multi_class option to silence this warning.\n",
      "  \"this warning.\", FutureWarning)\n",
      "C:\\Users\\user\\Anaconda3\\lib\\site-packages\\sklearn\\linear_model\\logistic.py:469: FutureWarning: Default multi_class will be changed to 'auto' in 0.22. Specify the multi_class option to silence this warning.\n",
      "  \"this warning.\", FutureWarning)\n",
      "C:\\Users\\user\\Anaconda3\\lib\\site-packages\\sklearn\\linear_model\\logistic.py:469: FutureWarning: Default multi_class will be changed to 'auto' in 0.22. Specify the multi_class option to silence this warning.\n",
      "  \"this warning.\", FutureWarning)\n",
      "C:\\Users\\user\\Anaconda3\\lib\\site-packages\\sklearn\\linear_model\\logistic.py:469: FutureWarning: Default multi_class will be changed to 'auto' in 0.22. Specify the multi_class option to silence this warning.\n",
      "  \"this warning.\", FutureWarning)\n",
      "C:\\Users\\user\\Anaconda3\\lib\\site-packages\\sklearn\\linear_model\\logistic.py:469: FutureWarning: Default multi_class will be changed to 'auto' in 0.22. Specify the multi_class option to silence this warning.\n",
      "  \"this warning.\", FutureWarning)\n",
      "C:\\Users\\user\\Anaconda3\\lib\\site-packages\\sklearn\\linear_model\\logistic.py:469: FutureWarning: Default multi_class will be changed to 'auto' in 0.22. Specify the multi_class option to silence this warning.\n",
      "  \"this warning.\", FutureWarning)\n"
     ]
    }
   ],
   "source": [
    "for _ in range (10):\n",
    "    X_train,X_test,y_train,y_test = train_test_split(X,y_data,test_size = 0.3)\n",
    "    logReg = LogReg.fit(X_train, y_train)\n",
    "    scikit_score.append(logReg.score(X_test,y_test))"
   ]
  },
  {
   "cell_type": "code",
   "execution_count": 72,
   "metadata": {},
   "outputs": [
    {
     "name": "stdout",
     "output_type": "stream",
     "text": [
      "[0.9016393442622951, 0.9016393442622951, 0.9180327868852459, 0.8852459016393442, 0.9180327868852459, 0.9180327868852459, 0.9344262295081968, 0.9180327868852459, 0.9180327868852459, 0.8852459016393442]\n",
      "0.9098360655737704\n"
     ]
    }
   ],
   "source": [
    "print(scikit_score)\n",
    "print(np.mean(scikit_score))"
   ]
  },
  {
   "cell_type": "markdown",
   "metadata": {},
   "source": [
    "#### We have sucessfully created and implemented the Logistic Regression Classifier and compared the result with inbuilt Scikit Learn library classifier"
   ]
  }
 ],
 "metadata": {
  "kernelspec": {
   "display_name": "Python 3",
   "language": "python",
   "name": "python3"
  },
  "language_info": {
   "codemirror_mode": {
    "name": "ipython",
    "version": 3
   },
   "file_extension": ".py",
   "mimetype": "text/x-python",
   "name": "python",
   "nbconvert_exporter": "python",
   "pygments_lexer": "ipython3",
   "version": "3.7.3"
  }
 },
 "nbformat": 4,
 "nbformat_minor": 2
}
